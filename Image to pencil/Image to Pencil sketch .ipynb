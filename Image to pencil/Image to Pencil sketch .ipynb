{
 "cells": [
  {
   "cell_type": "markdown",
   "id": "990d0b20",
   "metadata": {},
   "source": [
    "# Image to Pencil sketch\n"
   ]
  },
  {
   "cell_type": "markdown",
   "id": "87c22156",
   "metadata": {},
   "source": [
    "## Procedure"
   ]
  },
  {
   "cell_type": "raw",
   "id": "89b75ac7",
   "metadata": {},
   "source": [
    "1.Import pages\n",
    "2.Accept the Image\n",
    "3.Convert into Gray Scale\n",
    "4.Convert into Inverse GrayScale\n",
    "5.Display the Pencil and Normal Image"
   ]
  },
  {
   "cell_type": "code",
   "execution_count": 1,
   "id": "8044ebaf",
   "metadata": {},
   "outputs": [],
   "source": [
    "import cv2"
   ]
  },
  {
   "cell_type": "code",
   "execution_count": 2,
   "id": "22af39dc",
   "metadata": {},
   "outputs": [
    {
     "data": {
      "text/plain": [
       "-1"
      ]
     },
     "execution_count": 2,
     "metadata": {},
     "output_type": "execute_result"
    }
   ],
   "source": [
    "image=cv2.imread(\"dog.jpg\")\n",
    "cv2.imshow(\"Normal Image\",image)\n",
    "cv2.waitKey(0)"
   ]
  },
  {
   "cell_type": "code",
   "execution_count": 3,
   "id": "1c5209d9",
   "metadata": {},
   "outputs": [
    {
     "data": {
      "text/plain": [
       "-1"
      ]
     },
     "execution_count": 3,
     "metadata": {},
     "output_type": "execute_result"
    }
   ],
   "source": [
    "gray=cv2.cvtColor(image,cv2.COLOR_BGR2GRAY)\n",
    "cv2.imshow(\"Gray Scale Image\",gray)\n",
    "cv2.waitKey(0)"
   ]
  },
  {
   "cell_type": "code",
   "execution_count": 4,
   "id": "d834264d",
   "metadata": {},
   "outputs": [
    {
     "data": {
      "text/plain": [
       "-1"
      ]
     },
     "execution_count": 4,
     "metadata": {},
     "output_type": "execute_result"
    }
   ],
   "source": [
    "invers=255-gray\n",
    "cv2.imshow(\"Inverse GrayScale Image\",invers)\n",
    "cv2.waitKey(0)"
   ]
  },
  {
   "cell_type": "code",
   "execution_count": 5,
   "id": "8e2b0c9e",
   "metadata": {},
   "outputs": [],
   "source": [
    "blur=cv2.GaussianBlur(invers,(21,21),0)\n",
    "inver_blur=255-blur"
   ]
  },
  {
   "cell_type": "code",
   "execution_count": 6,
   "id": "9d295bdb",
   "metadata": {},
   "outputs": [
    {
     "data": {
      "text/plain": [
       "-1"
      ]
     },
     "execution_count": 6,
     "metadata": {},
     "output_type": "execute_result"
    }
   ],
   "source": [
    "pencil=cv2.divide(gray,inver_blur,scale=256.0)\n",
    "cv2.imshow(\"Normal Image\",image)\n",
    "cv2.imshow(\"Pencil sketch\",pencil)\n",
    "cv2.waitKey(0)"
   ]
  }
 ],
 "metadata": {
  "kernelspec": {
   "display_name": "Python 3 (ipykernel)",
   "language": "python",
   "name": "python3"
  },
  "language_info": {
   "codemirror_mode": {
    "name": "ipython",
    "version": 3
   },
   "file_extension": ".py",
   "mimetype": "text/x-python",
   "name": "python",
   "nbconvert_exporter": "python",
   "pygments_lexer": "ipython3",
   "version": "3.11.5"
  }
 },
 "nbformat": 4,
 "nbformat_minor": 5
}
